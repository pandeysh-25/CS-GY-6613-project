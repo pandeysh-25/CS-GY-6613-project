{
 "cells": [
  {
   "cell_type": "code",
   "execution_count": 1,
   "metadata": {},
   "outputs": [
    {
     "name": "stdout",
     "output_type": "stream",
     "text": [
      "env: CLEARML_WEB_HOST=https://app.clear.ml/\n",
      "env: CLEARML_API_HOST=https://api.clear.ml\n",
      "env: CLEARML_FILES_HOST=https://files.clear.ml\n",
      "env: CLEARML_API_ACCESS_KEY=I0UEOW7TS747MP47MNYI8UGLR41PF5\n",
      "env: CLEARML_API_SECRET_KEY=Ns5AHUFX2C-ocUU8eWMQThX1f6Gx-TotYpeT9YWfvbBUktImQWZsCLNNHqtLH9DhvBc\n"
     ]
    }
   ],
   "source": [
    "%env CLEARML_WEB_HOST=https://app.clear.ml/\n",
    "%env CLEARML_API_HOST=https://api.clear.ml\n",
    "%env CLEARML_FILES_HOST=https://files.clear.ml\n",
    "%env CLEARML_API_ACCESS_KEY=I0UEOW7TS747MP47MNYI8UGLR41PF5\n",
    "%env CLEARML_API_SECRET_KEY=Ns5AHUFX2C-ocUU8eWMQThX1f6Gx-TotYpeT9YWfvbBUktImQWZsCLNNHqtLH9DhvBc"
   ]
  },
  {
   "cell_type": "code",
   "execution_count": null,
   "metadata": {},
   "outputs": [
    {
     "name": "stdout",
     "output_type": "stream",
     "text": [
      "ClearML Task: created new task id=47b43a36f35148a2a792caa1d1990b11\n",
      "ClearML results page: https://app.clear.ml/projects/c2f105e73b7748aa82759ddbd5b626ea/experiments/47b43a36f35148a2a792caa1d1990b11/output/log\n"
     ]
    },
    {
     "name": "stdout",
     "output_type": "stream",
     "text": [
      "ClearML Task: created new task id=47b43a36f35148a2a792caa1d1990b11\n",
      "ClearML results page: https://app.clear.ml/projects/c2f105e73b7748aa82759ddbd5b626ea/experiments/47b43a36f35148a2a792caa1d1990b11/output/log\n",
      "ClearML Monitor: GPU monitoring failed getting GPU reading, switching off GPU monitoring\n"
     ]
    }
   ],
   "source": [
    "from clearml import Task\n",
    "task_new = Task.init(project_name=\"ETL-pipeline\", task_name=\"basic-ETL\")\n"
   ]
  },
  {
   "cell_type": "code",
   "execution_count": null,
   "metadata": {},
   "outputs": [],
   "source": []
  }
 ],
 "metadata": {
  "kernelspec": {
   "display_name": ".venv",
   "language": "python",
   "name": "python3"
  },
  "language_info": {
   "codemirror_mode": {
    "name": "ipython",
    "version": 3
   },
   "file_extension": ".py",
   "mimetype": "text/x-python",
   "name": "python",
   "nbconvert_exporter": "python",
   "pygments_lexer": "ipython3",
   "version": "3.11.9"
  }
 },
 "nbformat": 4,
 "nbformat_minor": 2
}
